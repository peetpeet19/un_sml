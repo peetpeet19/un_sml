{
 "cells": [
  {
   "cell_type": "code",
   "execution_count": 1,
   "metadata": {},
   "outputs": [],
   "source": [
    "import pandas as pd"
   ]
  },
  {
   "cell_type": "code",
   "execution_count": 2,
   "metadata": {},
   "outputs": [],
   "source": [
    "data = pd.read_csv('FoodAppBusiness.csv',encoding = \"utf-8\")"
   ]
  },
  {
   "cell_type": "code",
   "execution_count": 3,
   "metadata": {},
   "outputs": [
    {
     "data": {
      "text/html": [
       "<div>\n",
       "<style scoped>\n",
       "    .dataframe tbody tr th:only-of-type {\n",
       "        vertical-align: middle;\n",
       "    }\n",
       "\n",
       "    .dataframe tbody tr th {\n",
       "        vertical-align: top;\n",
       "    }\n",
       "\n",
       "    .dataframe thead th {\n",
       "        text-align: right;\n",
       "    }\n",
       "</style>\n",
       "<table border=\"1\" class=\"dataframe\">\n",
       "  <thead>\n",
       "    <tr style=\"text-align: right;\">\n",
       "      <th></th>\n",
       "      <th>MonthlyIncome</th>\n",
       "      <th>ActiveSinceDays</th>\n",
       "      <th>Age</th>\n",
       "      <th>Graduate</th>\n",
       "      <th>Married</th>\n",
       "      <th>Single</th>\n",
       "      <th>NoOfChildren</th>\n",
       "      <th>NoOfTeenager</th>\n",
       "      <th>NoOfDaysSinceLastPurchase</th>\n",
       "      <th>AmountSpendOnWines</th>\n",
       "      <th>...</th>\n",
       "      <th>NoOfCatalogPurchase</th>\n",
       "      <th>NoOfStorePurchase</th>\n",
       "      <th>NoOfWebVisitsMonth</th>\n",
       "      <th>PurchasedIn1stCampaign</th>\n",
       "      <th>PurchasedIn2ndCampaign</th>\n",
       "      <th>PurchasedIn3rdCampaign</th>\n",
       "      <th>PurchasedIn4thCampaign</th>\n",
       "      <th>PurchasedIn5thCampaign</th>\n",
       "      <th>TotalNoOfCampaignAccepted</th>\n",
       "      <th>CustomerComplain</th>\n",
       "    </tr>\n",
       "  </thead>\n",
       "  <tbody>\n",
       "    <tr>\n",
       "      <th>0</th>\n",
       "      <td>58138</td>\n",
       "      <td>2822</td>\n",
       "      <td>63</td>\n",
       "      <td>1</td>\n",
       "      <td>0</td>\n",
       "      <td>1</td>\n",
       "      <td>0</td>\n",
       "      <td>0</td>\n",
       "      <td>58</td>\n",
       "      <td>635</td>\n",
       "      <td>...</td>\n",
       "      <td>10</td>\n",
       "      <td>4</td>\n",
       "      <td>7</td>\n",
       "      <td>0</td>\n",
       "      <td>0</td>\n",
       "      <td>0</td>\n",
       "      <td>0</td>\n",
       "      <td>0</td>\n",
       "      <td>0</td>\n",
       "      <td>0</td>\n",
       "    </tr>\n",
       "    <tr>\n",
       "      <th>1</th>\n",
       "      <td>46344</td>\n",
       "      <td>2272</td>\n",
       "      <td>66</td>\n",
       "      <td>1</td>\n",
       "      <td>0</td>\n",
       "      <td>1</td>\n",
       "      <td>0</td>\n",
       "      <td>0</td>\n",
       "      <td>38</td>\n",
       "      <td>11</td>\n",
       "      <td>...</td>\n",
       "      <td>1</td>\n",
       "      <td>2</td>\n",
       "      <td>5</td>\n",
       "      <td>0</td>\n",
       "      <td>0</td>\n",
       "      <td>0</td>\n",
       "      <td>0</td>\n",
       "      <td>0</td>\n",
       "      <td>0</td>\n",
       "      <td>0</td>\n",
       "    </tr>\n",
       "    <tr>\n",
       "      <th>2</th>\n",
       "      <td>71613</td>\n",
       "      <td>2471</td>\n",
       "      <td>55</td>\n",
       "      <td>1</td>\n",
       "      <td>1</td>\n",
       "      <td>0</td>\n",
       "      <td>0</td>\n",
       "      <td>0</td>\n",
       "      <td>26</td>\n",
       "      <td>426</td>\n",
       "      <td>...</td>\n",
       "      <td>2</td>\n",
       "      <td>10</td>\n",
       "      <td>4</td>\n",
       "      <td>0</td>\n",
       "      <td>0</td>\n",
       "      <td>0</td>\n",
       "      <td>0</td>\n",
       "      <td>0</td>\n",
       "      <td>0</td>\n",
       "      <td>0</td>\n",
       "    </tr>\n",
       "    <tr>\n",
       "      <th>3</th>\n",
       "      <td>26646</td>\n",
       "      <td>2298</td>\n",
       "      <td>36</td>\n",
       "      <td>1</td>\n",
       "      <td>1</td>\n",
       "      <td>0</td>\n",
       "      <td>1</td>\n",
       "      <td>0</td>\n",
       "      <td>26</td>\n",
       "      <td>11</td>\n",
       "      <td>...</td>\n",
       "      <td>0</td>\n",
       "      <td>4</td>\n",
       "      <td>6</td>\n",
       "      <td>0</td>\n",
       "      <td>0</td>\n",
       "      <td>0</td>\n",
       "      <td>0</td>\n",
       "      <td>0</td>\n",
       "      <td>0</td>\n",
       "      <td>0</td>\n",
       "    </tr>\n",
       "    <tr>\n",
       "      <th>4</th>\n",
       "      <td>58293</td>\n",
       "      <td>2320</td>\n",
       "      <td>39</td>\n",
       "      <td>1</td>\n",
       "      <td>1</td>\n",
       "      <td>0</td>\n",
       "      <td>1</td>\n",
       "      <td>0</td>\n",
       "      <td>94</td>\n",
       "      <td>173</td>\n",
       "      <td>...</td>\n",
       "      <td>3</td>\n",
       "      <td>6</td>\n",
       "      <td>5</td>\n",
       "      <td>0</td>\n",
       "      <td>0</td>\n",
       "      <td>0</td>\n",
       "      <td>0</td>\n",
       "      <td>0</td>\n",
       "      <td>0</td>\n",
       "      <td>0</td>\n",
       "    </tr>\n",
       "  </tbody>\n",
       "</table>\n",
       "<p>5 rows × 27 columns</p>\n",
       "</div>"
      ],
      "text/plain": [
       "   MonthlyIncome  ActiveSinceDays  Age  Graduate  Married  Single  \\\n",
       "0          58138             2822   63         1        0       1   \n",
       "1          46344             2272   66         1        0       1   \n",
       "2          71613             2471   55         1        1       0   \n",
       "3          26646             2298   36         1        1       0   \n",
       "4          58293             2320   39         1        1       0   \n",
       "\n",
       "   NoOfChildren  NoOfTeenager  NoOfDaysSinceLastPurchase  AmountSpendOnWines  \\\n",
       "0             0             0                         58                 635   \n",
       "1             0             0                         38                  11   \n",
       "2             0             0                         26                 426   \n",
       "3             1             0                         26                  11   \n",
       "4             1             0                         94                 173   \n",
       "\n",
       "   ...  NoOfCatalogPurchase  NoOfStorePurchase  NoOfWebVisitsMonth  \\\n",
       "0  ...                   10                  4                   7   \n",
       "1  ...                    1                  2                   5   \n",
       "2  ...                    2                 10                   4   \n",
       "3  ...                    0                  4                   6   \n",
       "4  ...                    3                  6                   5   \n",
       "\n",
       "   PurchasedIn1stCampaign  PurchasedIn2ndCampaign  PurchasedIn3rdCampaign  \\\n",
       "0                       0                       0                       0   \n",
       "1                       0                       0                       0   \n",
       "2                       0                       0                       0   \n",
       "3                       0                       0                       0   \n",
       "4                       0                       0                       0   \n",
       "\n",
       "   PurchasedIn4thCampaign  PurchasedIn5thCampaign  TotalNoOfCampaignAccepted  \\\n",
       "0                       0                       0                          0   \n",
       "1                       0                       0                          0   \n",
       "2                       0                       0                          0   \n",
       "3                       0                       0                          0   \n",
       "4                       0                       0                          0   \n",
       "\n",
       "   CustomerComplain  \n",
       "0                 0  \n",
       "1                 0  \n",
       "2                 0  \n",
       "3                 0  \n",
       "4                 0  \n",
       "\n",
       "[5 rows x 27 columns]"
      ]
     },
     "execution_count": 3,
     "metadata": {},
     "output_type": "execute_result"
    }
   ],
   "source": [
    "data.head()"
   ]
  },
  {
   "cell_type": "code",
   "execution_count": 4,
   "metadata": {},
   "outputs": [
    {
     "name": "stdout",
     "output_type": "stream",
     "text": [
      "<class 'pandas.core.frame.DataFrame'>\n",
      "RangeIndex: 2205 entries, 0 to 2204\n",
      "Data columns (total 27 columns):\n",
      " #   Column                     Non-Null Count  Dtype\n",
      "---  ------                     --------------  -----\n",
      " 0   MonthlyIncome              2205 non-null   int64\n",
      " 1   ActiveSinceDays            2205 non-null   int64\n",
      " 2   Age                        2205 non-null   int64\n",
      " 3   Graduate                   2205 non-null   int64\n",
      " 4   Married                    2205 non-null   int64\n",
      " 5   Single                     2205 non-null   int64\n",
      " 6   NoOfChildren               2205 non-null   int64\n",
      " 7   NoOfTeenager               2205 non-null   int64\n",
      " 8   NoOfDaysSinceLastPurchase  2205 non-null   int64\n",
      " 9   AmountSpendOnWines         2205 non-null   int64\n",
      " 10  AmountSpentOnFruits        2205 non-null   int64\n",
      " 11  AmountSpentOnMeat          2205 non-null   int64\n",
      " 12  AmountSpentOnFish          2205 non-null   int64\n",
      " 13  AmountSpentOnSweet         2205 non-null   int64\n",
      " 14  AmountSpentOnGold          2205 non-null   int64\n",
      " 15  NoOfDealsWithDiscount      2205 non-null   int64\n",
      " 16  NoOfWebPurchase            2205 non-null   int64\n",
      " 17  NoOfCatalogPurchase        2205 non-null   int64\n",
      " 18  NoOfStorePurchase          2205 non-null   int64\n",
      " 19  NoOfWebVisitsMonth         2205 non-null   int64\n",
      " 20  PurchasedIn1stCampaign     2205 non-null   int64\n",
      " 21  PurchasedIn2ndCampaign     2205 non-null   int64\n",
      " 22  PurchasedIn3rdCampaign     2205 non-null   int64\n",
      " 23  PurchasedIn4thCampaign     2205 non-null   int64\n",
      " 24  PurchasedIn5thCampaign     2205 non-null   int64\n",
      " 25  TotalNoOfCampaignAccepted  2205 non-null   int64\n",
      " 26  CustomerComplain           2205 non-null   int64\n",
      "dtypes: int64(27)\n",
      "memory usage: 465.2 KB\n"
     ]
    }
   ],
   "source": [
    "data.info()"
   ]
  },
  {
   "cell_type": "code",
   "execution_count": 5,
   "metadata": {},
   "outputs": [
    {
     "data": {
      "text/plain": [
       "\"''\\ndata.drop(['PurchasedIn1stCampaign',\\n           'PurchasedIn2ndCampaign',\\n           'PurchasedIn3rdCampaign',\\n           'PurchasedIn4thCampaign',\\n           'PurchasedIn5thCampaign'], 1, inplace=True)\\n\""
      ]
     },
     "execution_count": 5,
     "metadata": {},
     "output_type": "execute_result"
    }
   ],
   "source": [
    "'''''\n",
    "data.drop(['PurchasedIn1stCampaign',\n",
    "           'PurchasedIn2ndCampaign',\n",
    "           'PurchasedIn3rdCampaign',\n",
    "           'PurchasedIn4thCampaign',\n",
    "           'PurchasedIn5thCampaign'], 1, inplace=True)\n",
    "'''''"
   ]
  },
  {
   "cell_type": "code",
   "execution_count": 6,
   "metadata": {},
   "outputs": [
    {
     "data": {
      "image/png": "[encoded data removed]",
      "text/plain": [
       "<Figure size 432x288 with 1 Axes>"
      ]
     },
     "metadata": {
      "needs_background": "light"
     },
     "output_type": "display_data"
    }
   ],
   "source": [
    "from sklearn.cluster import KMeans\n",
    "import matplotlib.pyplot as plt\n",
    "\n",
    "# คำนวณ wss สำหรับแต่ละค่า k\n",
    "wss = []\n",
    "for i in range(1,11):\n",
    "    kmeans = KMeans(n_clusters=i)\n",
    "    kmeans.fit(data)\n",
    "    wss.append(kmeans.inertia_)\n",
    "\n",
    "# พล็อตกราฟ wss เทียบกับจำนวน clusters k\n",
    "plt.plot(range(1,11), wss)\n",
    "plt.title('Elbow Method')\n",
    "plt.xlabel('Number of clusters')\n",
    "plt.ylabel('WSS')\n",
    "plt.show()"
   ]
  },
  {
   "cell_type": "code",
   "execution_count": 6,
   "metadata": {},
   "outputs": [
    {
     "data": {
      "image/png": "[encoded data removed]",
      "text/plain": [
       "<Figure size 720x504 with 1 Axes>"
      ]
     },
     "metadata": {
      "needs_background": "light"
     },
     "output_type": "display_data"
    }
   ],
   "source": [
    "import matplotlib.pyplot as plt\n",
    "fig = plt.figure(figsize =(10, 7))\n",
    "\n",
    "# Creating plot\n",
    "plt.boxplot(data)\n",
    " \n",
    "# show plot\n",
    "plt.show()"
   ]
  },
  {
   "cell_type": "code",
   "execution_count": 9,
   "metadata": {},
   "outputs": [
    {
     "data": {
      "image/png": "[encoded data removed]",
      "text/plain": [
       "<Figure size 720x504 with 1 Axes>"
      ]
     },
     "metadata": {
      "needs_background": "light"
     },
     "output_type": "display_data"
    }
   ],
   "source": [
    "import matplotlib.pyplot as plt\n",
    "fig = plt.figure(figsize =(10, 7))\n",
    "\n",
    "# Creating plot\n",
    "plt.boxplot(data['AmountSpendOnWines'])\n",
    " \n",
    "# show plot\n",
    "plt.show()"
   ]
  },
  {
   "cell_type": "code",
   "execution_count": 8,
   "metadata": {},
   "outputs": [],
   "source": [
    "#data = data.astype('float')"
   ]
  },
  {
   "cell_type": "code",
   "execution_count": 8,
   "metadata": {},
   "outputs": [],
   "source": [
    "#data.info()NoOfChildren"
   ]
  },
  {
   "cell_type": "code",
   "execution_count": 14,
   "metadata": {},
   "outputs": [
    {
     "data": {
      "image/png": "[encoded data removed]",
      "text/plain": [
       "<Figure size 432x288 with 1 Axes>"
      ]
     },
     "metadata": {
      "needs_background": "light"
     },
     "output_type": "display_data"
    }
   ],
   "source": [
    "fig = plt.figure(1,figsize=(6,4))\n",
    "plt.scatter(data['MonthlyIncome'],data['ActiveSinceDays'])\n",
    "plt.xlabel(\"MonthlyIncome\")\n",
    "plt.ylabel('ActiveSinceDays')\n",
    "plt.show()"
   ]
  },
  {
   "cell_type": "code",
   "execution_count": 15,
   "metadata": {},
   "outputs": [
    {
     "data": {
      "image/png": "[encoded data removed]",
      "text/plain": [
       "<Figure size 432x288 with 1 Axes>"
      ]
     },
     "metadata": {
      "needs_background": "light"
     },
     "output_type": "display_data"
    }
   ],
   "source": [
    "fig = plt.figure(1,figsize=(6,4))\n",
    "plt.scatter(data['MonthlyIncome'],data['AmountSpendOnWines'])\n",
    "plt.xlabel(\"MonthlyIncome\")\n",
    "plt.ylabel('AmountSpendOnWines')\n",
    "plt.show()"
   ]
  },
  {
   "cell_type": "code",
   "execution_count": 10,
   "metadata": {},
   "outputs": [],
   "source": [
    "from sklearn.cluster import AgglomerativeClustering"
   ]
  },
  {
   "cell_type": "code",
   "execution_count": 16,
   "metadata": {},
   "outputs": [
    {
     "name": "stdout",
     "output_type": "stream",
     "text": [
      "n_clusters=2 AgglomerativeClustering(n_clusters=3)\n",
      "[0 0 1 ... 0 1 0]\n"
     ]
    }
   ],
   "source": [
    "clustering2 = AgglomerativeClustering(n_clusters=3).fit(data)\n",
    "print(\"n_clusters=2\",clustering2)\n",
    "print(clustering2.labels_)\n",
    "\n",
    "df = pd.DataFrame(clustering2.labels_)\n",
    "df.to_csv('Agglomerative.csv')"
   ]
  },
  {
   "cell_type": "code",
   "execution_count": 12,
   "metadata": {},
   "outputs": [
    {
     "name": "stdout",
     "output_type": "stream",
     "text": [
      "DBSCAN(min_samples=10)\n",
      "[-1 -1 -1 ... -1 -1 -1]\n"
     ]
    }
   ],
   "source": [
    "from sklearn.cluster import DBSCAN\n",
    "dataX = pd.read_csv('FoodAppBusiness.csv',encoding = \"utf-8\")\n",
    "\n",
    "\n",
    "clustering_DBSCAN = DBSCAN(eps=0.5, min_samples=10).fit(data)\n",
    "print(clustering_DBSCAN)\n",
    "print(clustering_DBSCAN.labels_)\n",
    "\n",
    "df = pd.DataFrame(clustering_DBSCAN.labels_)\n",
    "df.to_csv('DBSCAN.csv')\n"
   ]
  },
  {
   "cell_type": "code",
   "execution_count": 13,
   "metadata": {},
   "outputs": [],
   "source": [
    "from sklearn.cluster import KMeans"
   ]
  },
  {
   "cell_type": "code",
   "execution_count": 17,
   "metadata": {},
   "outputs": [
    {
     "name": "stdout",
     "output_type": "stream",
     "text": [
      "kmeans labels [0 0 1 ... 0 1 0]\n",
      "kmeans cluster_centers [[ 5.14647795e+04  2.52156161e+03  5.37224384e+01  9.23476005e-01\n",
      "   6.42023346e-01  3.57976654e-01  2.71076524e-01  5.30479896e-01\n",
      "   4.96562905e+01  2.69935149e+02  1.75862516e+01  9.13696498e+01\n",
      "   2.40350195e+01  1.68962387e+01  4.38754864e+01  3.08430610e+00\n",
      "   4.60830091e+00  2.13229572e+00  5.91699092e+00  5.75356680e+00\n",
      "   1.68612192e-02  1.42671855e-02  6.61478599e-02  8.30090791e-02\n",
      "   3.89105058e-03  1.84176394e-01  5.18806744e-03]\n",
      " [ 7.54994553e+04  2.50356564e+03  5.26215084e+01  9.21787709e-01\n",
      "   6.39664804e-01  3.60335196e-01  6.84357542e-02  2.54189944e-01\n",
      "   4.89818436e+01  6.22554469e+02  5.65670391e+01  3.85688547e+02\n",
      "   8.13337989e+01  5.93533520e+01  7.09553073e+01  1.66480447e+00\n",
      "   5.53351955e+00  5.32122905e+00  8.49301676e+00  3.30865922e+00\n",
      "   1.78770950e-01  2.65363128e-02  7.12290503e-02  1.35474860e-01\n",
      "   2.20670391e-01  6.32681564e-01  6.98324022e-03]\n",
      " [ 2.79801727e+04  2.51234958e+03  4.67534819e+01  8.09192201e-01\n",
      "   6.53203343e-01  3.46796657e-01  5.37604457e-01  2.06128134e-01\n",
      "   4.83412256e+01  2.95598886e+01  5.79108635e+00  2.49498607e+01\n",
      "   9.03481894e+00  5.98050139e+00  1.74289694e+01  2.14763231e+00\n",
      "   2.12674095e+00  5.27855153e-01  3.06128134e+00  6.91225627e+00\n",
      "   1.39275766e-03 -8.67361738e-18  8.49582173e-02  4.17827298e-03\n",
      "   5.55111512e-17  9.05292479e-02  1.53203343e-02]]\n"
     ]
    }
   ],
   "source": [
    "kmeans_c2 = KMeans(n_clusters=3, random_state=440).fit(data)\n",
    "print(\"kmeans labels\",kmeans_c2.labels_)\n",
    "print(\"kmeans cluster_centers\",kmeans_c2.cluster_centers_)\n",
    "\n",
    "df = pd.DataFrame(kmeans_c2.labels_)\n",
    "df.to_csv('kmeans_c2.csv')"
   ]
  },
  {
   "cell_type": "code",
   "execution_count": 15,
   "metadata": {},
   "outputs": [
    {
     "ename": "KeyError",
     "evalue": "'B'",
     "output_type": "error",
     "traceback": [
      "\u001b[1;31m---------------------------------------------------------------------------\u001b[0m",
      "\u001b[1;31mKeyError\u001b[0m                                  Traceback (most recent call last)",
      "File \u001b[1;32mc:\\Users\\M S I\\AppData\\Local\\Programs\\Python\\Python310\\lib\\site-packages\\pandas\\core\\indexes\\base.py:3621\u001b[0m, in \u001b[0;36mIndex.get_loc\u001b[1;34m(self, key, method, tolerance)\u001b[0m\n\u001b[0;32m   3620\u001b[0m \u001b[39mtry\u001b[39;00m:\n\u001b[1;32m-> 3621\u001b[0m     \u001b[39mreturn\u001b[39;00m \u001b[39mself\u001b[39;49m\u001b[39m.\u001b[39;49m_engine\u001b[39m.\u001b[39;49mget_loc(casted_key)\n\u001b[0;32m   3622\u001b[0m \u001b[39mexcept\u001b[39;00m \u001b[39mKeyError\u001b[39;00m \u001b[39mas\u001b[39;00m err:\n",
      "File \u001b[1;32mc:\\Users\\M S I\\AppData\\Local\\Programs\\Python\\Python310\\lib\\site-packages\\pandas\\_libs\\index.pyx:136\u001b[0m, in \u001b[0;36mpandas._libs.index.IndexEngine.get_loc\u001b[1;34m()\u001b[0m\n",
      "File \u001b[1;32mc:\\Users\\M S I\\AppData\\Local\\Programs\\Python\\Python310\\lib\\site-packages\\pandas\\_libs\\index.pyx:163\u001b[0m, in \u001b[0;36mpandas._libs.index.IndexEngine.get_loc\u001b[1;34m()\u001b[0m\n",
      "File \u001b[1;32mpandas\\_libs\\hashtable_class_helper.pxi:5198\u001b[0m, in \u001b[0;36mpandas._libs.hashtable.PyObjectHashTable.get_item\u001b[1;34m()\u001b[0m\n",
      "File \u001b[1;32mpandas\\_libs\\hashtable_class_helper.pxi:5206\u001b[0m, in \u001b[0;36mpandas._libs.hashtable.PyObjectHashTable.get_item\u001b[1;34m()\u001b[0m\n",
      "\u001b[1;31mKeyError\u001b[0m: 'B'",
      "\nThe above exception was the direct cause of the following exception:\n",
      "\u001b[1;31mKeyError\u001b[0m                                  Traceback (most recent call last)",
      "\u001b[1;32mc:\\Users\\M S I\\OneDrive - Silpakorn University\\Code\\UN SML\\pro\\test.ipynb Cell 20\u001b[0m in \u001b[0;36m<module>\u001b[1;34m\u001b[0m\n\u001b[0;32m      <a href='vscode-notebook-cell:/c%3A/Users/M%20S%20I/OneDrive%20-%20Silpakorn%20University/Code/UN%20SML/pro/test.ipynb#X25sZmlsZQ%3D%3D?line=0'>1</a>\u001b[0m data_aag \u001b[39m=\u001b[39m pd\u001b[39m.\u001b[39mread_csv(\u001b[39m'\u001b[39m\u001b[39mAgglomerative.csv\u001b[39m\u001b[39m'\u001b[39m,encoding \u001b[39m=\u001b[39m \u001b[39m\"\u001b[39m\u001b[39mutf-8\u001b[39m\u001b[39m\"\u001b[39m)\n\u001b[1;32m----> <a href='vscode-notebook-cell:/c%3A/Users/M%20S%20I/OneDrive%20-%20Silpakorn%20University/Code/UN%20SML/pro/test.ipynb#X25sZmlsZQ%3D%3D?line=1'>2</a>\u001b[0m data_aag[\u001b[39m'\u001b[39;49m\u001b[39mB\u001b[39;49m\u001b[39m'\u001b[39;49m]\u001b[39m.\u001b[39munique()\n",
      "File \u001b[1;32mc:\\Users\\M S I\\AppData\\Local\\Programs\\Python\\Python310\\lib\\site-packages\\pandas\\core\\frame.py:3505\u001b[0m, in \u001b[0;36mDataFrame.__getitem__\u001b[1;34m(self, key)\u001b[0m\n\u001b[0;32m   3503\u001b[0m \u001b[39mif\u001b[39;00m \u001b[39mself\u001b[39m\u001b[39m.\u001b[39mcolumns\u001b[39m.\u001b[39mnlevels \u001b[39m>\u001b[39m \u001b[39m1\u001b[39m:\n\u001b[0;32m   3504\u001b[0m     \u001b[39mreturn\u001b[39;00m \u001b[39mself\u001b[39m\u001b[39m.\u001b[39m_getitem_multilevel(key)\n\u001b[1;32m-> 3505\u001b[0m indexer \u001b[39m=\u001b[39m \u001b[39mself\u001b[39;49m\u001b[39m.\u001b[39;49mcolumns\u001b[39m.\u001b[39;49mget_loc(key)\n\u001b[0;32m   3506\u001b[0m \u001b[39mif\u001b[39;00m is_integer(indexer):\n\u001b[0;32m   3507\u001b[0m     indexer \u001b[39m=\u001b[39m [indexer]\n",
      "File \u001b[1;32mc:\\Users\\M S I\\AppData\\Local\\Programs\\Python\\Python310\\lib\\site-packages\\pandas\\core\\indexes\\base.py:3623\u001b[0m, in \u001b[0;36mIndex.get_loc\u001b[1;34m(self, key, method, tolerance)\u001b[0m\n\u001b[0;32m   3621\u001b[0m     \u001b[39mreturn\u001b[39;00m \u001b[39mself\u001b[39m\u001b[39m.\u001b[39m_engine\u001b[39m.\u001b[39mget_loc(casted_key)\n\u001b[0;32m   3622\u001b[0m \u001b[39mexcept\u001b[39;00m \u001b[39mKeyError\u001b[39;00m \u001b[39mas\u001b[39;00m err:\n\u001b[1;32m-> 3623\u001b[0m     \u001b[39mraise\u001b[39;00m \u001b[39mKeyError\u001b[39;00m(key) \u001b[39mfrom\u001b[39;00m \u001b[39merr\u001b[39;00m\n\u001b[0;32m   3624\u001b[0m \u001b[39mexcept\u001b[39;00m \u001b[39mTypeError\u001b[39;00m:\n\u001b[0;32m   3625\u001b[0m     \u001b[39m# If we have a listlike key, _check_indexing_error will raise\u001b[39;00m\n\u001b[0;32m   3626\u001b[0m     \u001b[39m#  InvalidIndexError. Otherwise we fall through and re-raise\u001b[39;00m\n\u001b[0;32m   3627\u001b[0m     \u001b[39m#  the TypeError.\u001b[39;00m\n\u001b[0;32m   3628\u001b[0m     \u001b[39mself\u001b[39m\u001b[39m.\u001b[39m_check_indexing_error(key)\n",
      "\u001b[1;31mKeyError\u001b[0m: 'B'"
     ]
    }
   ],
   "source": [
    "data_aag = pd.read_csv('Agglomerative.csv',encoding = \"utf-8\")\n",
    "data_aag['B'].unique()"
   ]
  },
  {
   "cell_type": "code",
   "execution_count": null,
   "metadata": {},
   "outputs": [],
   "source": []
  },
  {
   "cell_type": "code",
   "execution_count": null,
   "metadata": {},
   "outputs": [],
   "source": []
  }
 ],
 "metadata": {
  "kernelspec": {
   "display_name": "Python 3",
   "language": "python",
   "name": "python3"
  },
  "language_info": {
   "codemirror_mode": {
    "name": "ipython",
    "version": 3
   },
   "file_extension": ".py",
   "mimetype": "text/x-python",
   "name": "python",
   "nbconvert_exporter": "python",
   "pygments_lexer": "ipython3",
   "version": "3.10.5"
  },
  "orig_nbformat": 4
 },
 "nbformat": 4,
 "nbformat_minor": 2
}
